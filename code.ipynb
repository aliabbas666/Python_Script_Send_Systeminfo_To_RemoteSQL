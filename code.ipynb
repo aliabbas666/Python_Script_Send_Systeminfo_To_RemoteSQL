{
 "cells": [
  {
   "cell_type": "code",
   "execution_count": 25,
   "metadata": {},
   "outputs": [],
   "source": [
    "#!/usr/bin/python3\n",
    "import mysql.connector\n",
    "import platform,socket,re,uuid,json,psutil,logging\n",
    "from win32api import GetSystemMetrics\n",
    "import getpass\n",
    "from ipgetter2 import ipgetter1 as ipgetter\n",
    "import datetime"
   ]
  },
  {
   "cell_type": "code",
   "execution_count": 32,
   "metadata": {},
   "outputs": [],
   "source": [
    "connection = mysql.connector.connect(host='85.10.---.---',\n",
    "                                         database='systemdb---',\n",
    "                                         user='system----',\n",
    "                                         password='system----')\n",
    "cursor = connection.cursor()"
   ]
  },
  {
   "cell_type": "code",
   "execution_count": 33,
   "metadata": {},
   "outputs": [
    {
     "data": {
      "text/plain": [
       "{'user_name': 'Ali Abbas',\n",
       " 'platform': 'Windows',\n",
       " 'platform-release': '10',\n",
       " 'platform-version': '10.0.18362',\n",
       " 'architecture': 'AMD64',\n",
       " 'hostname': 'Haier-PC',\n",
       " 'ip-address': '192.168.0.109',\n",
       " 'mac-address': 'b4:4b:d6:e7:ab:8c',\n",
       " 'processor': 'Intel64 Family 6 Model 142 Stepping 9, GenuineIntel',\n",
       " 'date_time': '2020-08-24 20:22:28.630350',\n",
       " 'ram': '8 GB',\n",
       " 'ip': '182.189.2.10',\n",
       " 'screen_resolution': '1366x768'}"
      ]
     },
     "execution_count": 33,
     "metadata": {},
     "output_type": "execute_result"
    }
   ],
   "source": [
    "info={}\n",
    "def getSystemInfo():\n",
    "    try:\n",
    "        info['user_name']=getpass.getuser()\n",
    "        info['platform']=platform.system()\n",
    "        info['platform-release']=platform.release()\n",
    "        info['platform-version']=platform.version()\n",
    "        info['architecture']=platform.machine()\n",
    "        info['hostname']=socket.gethostname()\n",
    "        info['ip-address']=socket.gethostbyname(socket.gethostname())\n",
    "        info['mac-address']=':'.join(re.findall('..', '%012x' % uuid.getnode()))\n",
    "        info['processor']=platform.processor()\n",
    "        info['date_time']=str(datetime.datetime.now())\n",
    "        info['ram']=str(round(psutil.virtual_memory().total / (1024.0 **3)))+\" GB\"\n",
    "        info['ip']=str(ipgetter.myip())\n",
    "        info['screen_resolution']=(str(GetSystemMetrics(0))+\"x\"+str(GetSystemMetrics(1)))\n",
    "        return json.dumps(info)\n",
    "    except Exception as e:\n",
    "        logging.exception(e)\n",
    "\n",
    "json.loads(getSystemInfo())"
   ]
  },
  {
   "cell_type": "code",
   "execution_count": 34,
   "metadata": {},
   "outputs": [],
   "source": [
    "qry = \"\"\"Insert Into systeminformation (user_name,platform,platform_release, platform_version, architecture, hostname, ip_address, mac_address, processor,date_time, ram,ip,screen_resolution) Values (%s)\"\"\"  % (str(list(info.values()))[1:-1])"
   ]
  },
  {
   "cell_type": "code",
   "execution_count": 36,
   "metadata": {},
   "outputs": [
    {
     "name": "stdout",
     "output_type": "stream",
     "text": [
      "1 Record inserted successfully into TESTDB table\n",
      "MySQL connection is closed\n"
     ]
    }
   ],
   "source": [
    "try:\n",
    "# execute SQL query using execute() method.\n",
    "    cursor.execute(qry)\n",
    "    connection.commit()\n",
    "    print(cursor.rowcount, \"Record inserted successfully into TESTDB table\")\n",
    "    cursor.close()\n",
    "except mysql.connector.Error as error:\n",
    "    print(\"Failed to insert record into Laptop table {}\".format(error))\n",
    "\n",
    "finally:\n",
    "    if (connection.is_connected()):\n",
    "        connection.close()\n",
    "        print(\"MySQL connection is closed\")"
   ]
  },
  {
   "cell_type": "code",
   "execution_count": null,
   "metadata": {},
   "outputs": [],
   "source": []
  },
  {
   "cell_type": "code",
   "execution_count": null,
   "metadata": {},
   "outputs": [],
   "source": []
  },
  {
   "cell_type": "code",
   "execution_count": null,
   "metadata": {},
   "outputs": [],
   "source": []
  }
 ],
 "metadata": {
  "kernelspec": {
   "display_name": "Python 3",
   "language": "python",
   "name": "python3"
  },
  "language_info": {
   "codemirror_mode": {
    "name": "ipython",
    "version": 3
   },
   "file_extension": ".py",
   "mimetype": "text/x-python",
   "name": "python",
   "nbconvert_exporter": "python",
   "pygments_lexer": "ipython3",
   "version": "3.7.3"
  }
 },
 "nbformat": 4,
 "nbformat_minor": 2
}
